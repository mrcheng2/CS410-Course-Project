{
 "cells": [
  {
   "cell_type": "code",
   "execution_count": 2,
   "metadata": {
    "colab": {
     "base_uri": "https://localhost:8080/"
    },
    "executionInfo": {
     "elapsed": 10547,
     "status": "ok",
     "timestamp": 1730767991548,
     "user": {
      "displayName": "Christine Park",
      "userId": "13524834220006623746"
     },
     "user_tz": 360
    },
    "id": "0mgF4QBZb3Jg",
    "outputId": "85bae049-938a-40ee-a7ed-1a129d2ea19c"
   },
   "outputs": [
    {
     "name": "stdout",
     "output_type": "stream",
     "text": [
      "Collecting newsapi-python\n",
      "  Using cached newsapi_python-0.2.7-py2.py3-none-any.whl.metadata (1.2 kB)\n",
      "Requirement already satisfied: requests<3.0.0 in /home/boomboy121/anaconda3/envs/pyserini/lib/python3.10/site-packages (from newsapi-python) (2.32.3)\n",
      "Requirement already satisfied: charset-normalizer<4,>=2 in /home/boomboy121/anaconda3/envs/pyserini/lib/python3.10/site-packages (from requests<3.0.0->newsapi-python) (3.3.2)\n",
      "Requirement already satisfied: idna<4,>=2.5 in /home/boomboy121/anaconda3/envs/pyserini/lib/python3.10/site-packages (from requests<3.0.0->newsapi-python) (3.10)\n",
      "Requirement already satisfied: urllib3<3,>=1.21.1 in /home/boomboy121/anaconda3/envs/pyserini/lib/python3.10/site-packages (from requests<3.0.0->newsapi-python) (2.2.3)\n",
      "Requirement already satisfied: certifi>=2017.4.17 in /home/boomboy121/anaconda3/envs/pyserini/lib/python3.10/site-packages (from requests<3.0.0->newsapi-python) (2024.8.30)\n",
      "Using cached newsapi_python-0.2.7-py2.py3-none-any.whl (7.9 kB)\n",
      "Installing collected packages: newsapi-python\n",
      "Successfully installed newsapi-python-0.2.7\n"
     ]
    }
   ],
   "source": [
    "!pip install newsapi-python"
   ]
  },
  {
   "cell_type": "code",
   "execution_count": 7,
   "metadata": {
    "executionInfo": {
     "elapsed": 184,
     "status": "ok",
     "timestamp": 1730773980140,
     "user": {
      "displayName": "Christine Park",
      "userId": "13524834220006623746"
     },
     "user_tz": 360
    },
    "id": "U57Kt2lzcADp"
   },
   "outputs": [],
   "source": [
    "from newsapi import NewsApiClient\n",
    "\n",
    "# Init\n",
    "newsapi = NewsApiClient(api_key='547833f9ae2043489a7432e6b056451b') # free dev api key"
   ]
  },
  {
   "cell_type": "code",
   "execution_count": 8,
   "metadata": {
    "colab": {
     "base_uri": "https://localhost:8080/"
    },
    "executionInfo": {
     "elapsed": 179,
     "status": "ok",
     "timestamp": 1730246899011,
     "user": {
      "displayName": "Christine Park",
      "userId": "13524834220006623746"
     },
     "user_tz": 240
    },
    "id": "dGN6jMAycUsP",
    "outputId": "ece2b2e9-a44b-44bf-ff32-a9f3db3dc675"
   },
   "outputs": [
    {
     "data": {
      "text/plain": [
       "{'status': 'ok',\n",
       " 'totalResults': 3,\n",
       " 'articles': [{'source': {'id': 'google-news', 'name': 'Google News'},\n",
       "   'author': 'Investing.com',\n",
       "   'title': 'Asia stocks rise with China stimulus, US elections in focus - Investing.com',\n",
       "   'description': None,\n",
       "   'url': 'https://news.google.com/rss/articles/CBMitgFBVV95cUxOMWEwbjJlRWtGSjRScnlIUFRheDBzWF9NMmtPYW1TTlR3ZkNhUlRKNC03SzF1dkVlUzRPNEt2dko5ckJhd1pROGxlV1RpZGJWSkhydWZqQ19uYlM4c1BLYk9RYTZCbUp3ZV9NZFg2aE1BNld6VnNlSHM4cXVocHpxU3ZoM3puNXU3b3pKV1dwZ2pkV1ZnZFhabkhYWFo5cWNlazZDcTgzSkZWY2I2UHg3ZjB4OEcxUQ?oc=5',\n",
       "   'urlToImage': None,\n",
       "   'publishedAt': '2024-11-04T02:31:02Z',\n",
       "   'content': None},\n",
       "  {'source': {'id': 'google-news', 'name': 'Google News'},\n",
       "   'author': 'TheStreet',\n",
       "   'title': 'Fed interest rate decision and election may roil stocks - TheStreet',\n",
       "   'description': None,\n",
       "   'url': 'https://news.google.com/rss/articles/CBMiigFBVV95cUxQMl9BZDZxTVBpdjVUOUV6RGdRSXlBamVhU0xXb1QzRlJBOGJsc0VnSUZxbU5ST1l6bzRhM3J5aHFVSjFIMXEtNmh6dC1pcUNJMUZfby1WdVlZOFhTbmViNlYyWndOWG9vUzBHTW1jeFo5R1JYX1lfYkRCWmRkTmg4SGtjLTR4eVpuNWc?oc=5',\n",
       "   'urlToImage': None,\n",
       "   'publishedAt': '2024-11-04T00:16:22Z',\n",
       "   'content': None},\n",
       "  {'source': {'id': None, 'name': 'New York Post'},\n",
       "   'author': 'Jared Downing',\n",
       "   'title': 'Twin meteor showers to light up the sky on the eve of Election Day: ‘Fireball’ - New York Post ',\n",
       "   'description': 'Two sister meteor showers are currently lighting up the night sky and will peak on two different days this month, including the early morning of Tuesday, Nov. 5.',\n",
       "   'url': 'https://nypost.com/2024/11/03/us-news/twin-meteor-showers-to-light-up-the-sky-on-the-eve-of-election-day/',\n",
       "   'urlToImage': 'https://nypost.com/wp-content/uploads/sites/2/2024/11/92980331.jpg?quality=75&strip=all&w=1024',\n",
       "   'publishedAt': '2024-11-03T19:52:00Z',\n",
       "   'content': 'If you see fireballs streaking across the sky the night before Election Day, dont worry, they arent an omen of political doom.\\r\\nRather, two sister meteor showers are currently lighting up the night s… [+1242 chars]'}]}"
      ]
     },
     "execution_count": 8,
     "metadata": {},
     "output_type": "execute_result"
    }
   ],
   "source": [
    "# /v2/top-headlines\n",
    "top_headlines = newsapi.get_top_headlines(q='election',\n",
    "                                          language='en',\n",
    "                                          country='us')\n",
    "\n",
    "top_headlines"
   ]
  },
  {
   "cell_type": "code",
   "execution_count": 10,
   "metadata": {
    "colab": {
     "base_uri": "https://localhost:8080/"
    },
    "executionInfo": {
     "elapsed": 380,
     "status": "ok",
     "timestamp": 1730246632924,
     "user": {
      "displayName": "Christine Park",
      "userId": "13524834220006623746"
     },
     "user_tz": 240
    },
    "id": "7c4DGcktdhHu",
    "outputId": "c221f039-de94-4973-b8a2-ac374af92c7d"
   },
   "outputs": [],
   "source": [
    "# /v2/top-headlines\n",
    "for x in range(1,6):\n",
    "    all_articles = newsapi.get_everything(q='presidential election',\n",
    "                                        language='en',\n",
    "                                        sort_by='relevancy',\n",
    "                                        page=x)\n",
    "\n",
    "# THIS WILL HAVE A LOT OF RESULTS\n"
   ]
  },
  {
   "cell_type": "code",
   "execution_count": 11,
   "metadata": {
    "executionInfo": {
     "elapsed": 201,
     "status": "ok",
     "timestamp": 1730774005298,
     "user": {
      "displayName": "Christine Park",
      "userId": "13524834220006623746"
     },
     "user_tz": 360
    },
    "id": "cc4hdJeo0Imw"
   },
   "outputs": [],
   "source": [
    "import requests\n",
    "import time\n",
    "import json\n",
    "from datetime import datetime, timedelta"
   ]
  },
  {
   "cell_type": "code",
   "execution_count": 12,
   "metadata": {
    "executionInfo": {
     "elapsed": 154,
     "status": "ok",
     "timestamp": 1730774006513,
     "user": {
      "displayName": "Christine Park",
      "userId": "13524834220006623746"
     },
     "user_tz": 360
    },
    "id": "aut6x29_Bizh"
   },
   "outputs": [],
   "source": [
    "def save_articles_as_json(articles, filename=\"articles.json\"):\n",
    "    with open(filename, 'w', encoding='utf-8') as f:\n",
    "        json.dump(articles, f, ensure_ascii=False, indent=4)\n",
    "    print(f\"Articles saved to {filename}\")"
   ]
  },
  {
   "cell_type": "code",
   "execution_count": 13,
   "metadata": {
    "colab": {
     "base_uri": "https://localhost:8080/"
    },
    "executionInfo": {
     "elapsed": 35146,
     "status": "ok",
     "timestamp": 1730774827086,
     "user": {
      "displayName": "Christine Park",
      "userId": "13524834220006623746"
     },
     "user_tz": 360
    },
    "id": "Mz0zED5ozir5",
    "outputId": "50d4a7bd-c8ec-42b9-d95c-3a18245f6861"
   },
   "outputs": [
    {
     "name": "stdout",
     "output_type": "stream",
     "text": [
      "Fetched 100 articles for 2024-10-05\n",
      "Fetched 100 articles for 2024-10-06\n",
      "Fetched 100 articles for 2024-10-07\n",
      "Fetched 100 articles for 2024-10-08\n",
      "Fetched 100 articles for 2024-10-09\n",
      "Fetched 100 articles for 2024-10-10\n",
      "Fetched 100 articles for 2024-10-11\n",
      "Fetched 100 articles for 2024-10-12\n",
      "Fetched 100 articles for 2024-10-13\n",
      "Fetched 100 articles for 2024-10-14\n",
      "Fetched 100 articles for 2024-10-15\n",
      "Fetched 100 articles for 2024-10-16\n",
      "Fetched 100 articles for 2024-10-17\n",
      "Fetched 100 articles for 2024-10-18\n",
      "Fetched 100 articles for 2024-10-19\n",
      "Fetched 100 articles for 2024-10-20\n",
      "Fetched 100 articles for 2024-10-21\n",
      "Fetched 100 articles for 2024-10-22\n",
      "Fetched 100 articles for 2024-10-23\n",
      "Fetched 100 articles for 2024-10-24\n",
      "Fetched 100 articles for 2024-10-25\n",
      "Fetched 100 articles for 2024-10-26\n",
      "Fetched 100 articles for 2024-10-27\n",
      "Fetched 100 articles for 2024-10-28\n",
      "Fetched 100 articles for 2024-10-29\n",
      "Fetched 100 articles for 2024-10-30\n",
      "Fetched 100 articles for 2024-10-31\n",
      "Fetched 100 articles for 2024-11-01\n",
      "Fetched 100 articles for 2024-11-02\n",
      "Fetched 100 articles for 2024-11-03\n",
      "Fetched 100 articles for 2024-11-04\n"
     ]
    }
   ],
   "source": [
    "def fetch_articles(query, start_date, end_date, page_size=100, max_requests=100):\n",
    "    #api_key = '900d2c19ebc44e8c976cec8e841b7e0c'\n",
    "    api_key = '40ceb02f61164156aff23fcc7a525680' #Christine's key\n",
    "    url = 'https://newsapi.org/v2/everything'\n",
    "    all_articles = []\n",
    "    current_date = start_date\n",
    "    requests_made = 0\n",
    "\n",
    "    while current_date <= end_date and requests_made < max_requests:\n",
    "        params = {\n",
    "            'q': query,\n",
    "            'from': current_date.strftime('%Y-%m-%d'),\n",
    "            'to': current_date.strftime('%Y-%m-%d'),\n",
    "            'pageSize': page_size,\n",
    "            'language': 'en',\n",
    "            'apiKey': api_key,\n",
    "        }\n",
    "\n",
    "        response = requests.get(url, params=params)\n",
    "        if response.status_code != 200:\n",
    "            print(f\"Error: {response.status_code}\")\n",
    "            print(response.text)\n",
    "            break\n",
    "\n",
    "        data = response.json()\n",
    "        articles = data.get('articles', [])\n",
    "        all_articles.extend(articles)\n",
    "\n",
    "        print(f\"Fetched {len(articles)} articles for {current_date.strftime('%Y-%m-%d')}\")\n",
    "\n",
    "        # Move to the next day and increment requests made\n",
    "        current_date += timedelta(days=1)\n",
    "        requests_made += 1\n",
    "        time.sleep(1)  # To avoid hitting rate limits\n",
    "\n",
    "    return all_articles\n",
    "\n",
    "# Example usage\n",
    "query = \"Harris Trump election 2024\"\n",
    "start_date = datetime(2024, 10, 5)\n",
    "end_date = datetime(2024, 11, 4)\n",
    "articles = fetch_articles(query, start_date, end_date)"
   ]
  },
  {
   "cell_type": "code",
   "execution_count": 14,
   "metadata": {
    "colab": {
     "base_uri": "https://localhost:8080/"
    },
    "executionInfo": {
     "elapsed": 121,
     "status": "ok",
     "timestamp": 1730774829191,
     "user": {
      "displayName": "Christine Park",
      "userId": "13524834220006623746"
     },
     "user_tz": 360
    },
    "id": "F3S1N3340F1l",
    "outputId": "4d5df494-f393-4ccd-8af3-7cefca604c73"
   },
   "outputs": [
    {
     "name": "stdout",
     "output_type": "stream",
     "text": [
      "3100\n",
      "1. How politicians got comfortable sounding desperate when asking for money (2024-10-05T09:20:02Z)\n",
      "2. How Will The 2024 Election Impact Your Job? Changes To Expect At Work (2024-10-05T14:49:44Z)\n",
      "3. Elon Musk to join Trump for rally at site of first assassination attempt (2024-10-05T00:57:25Z)\n",
      "4. Trump Brags About Cutting Taxes for the Nation’s ‘Highest’ Earners (2024-10-05T13:30:00Z)\n",
      "5. Links 10/5/2024 (2024-10-05T10:55:34Z)\n"
     ]
    }
   ],
   "source": [
    "print(len(articles))\n",
    "\n",
    "# Print out some details of the articles fetched\n",
    "for idx, article in enumerate(articles[:5], 1):\n",
    "    print(f\"{idx}. {article['title']} ({article['publishedAt']})\")"
   ]
  },
  {
   "cell_type": "code",
   "execution_count": null,
   "metadata": {
    "colab": {
     "base_uri": "https://localhost:8080/"
    },
    "executionInfo": {
     "elapsed": 191,
     "status": "ok",
     "timestamp": 1730774606928,
     "user": {
      "displayName": "Christine Park",
      "userId": "13524834220006623746"
     },
     "user_tz": 360
    },
    "id": "KoIrlHkIBuSK",
    "outputId": "e8e76e02-0231-4757-85d5-daf0d04d54e0"
   },
   "outputs": [],
   "source": [
    "save_articles_as_json(articles)"
   ]
  }
 ],
 "metadata": {
  "colab": {
   "provenance": []
  },
  "kernelspec": {
   "display_name": "pyserini",
   "language": "python",
   "name": "python3"
  },
  "language_info": {
   "codemirror_mode": {
    "name": "ipython",
    "version": 3
   },
   "file_extension": ".py",
   "mimetype": "text/x-python",
   "name": "python",
   "nbconvert_exporter": "python",
   "pygments_lexer": "ipython3",
   "version": "3.10.13"
  }
 },
 "nbformat": 4,
 "nbformat_minor": 0
}
